{
 "cells": [
  {
   "cell_type": "code",
   "execution_count": 1,
   "metadata": {},
   "outputs": [
    {
     "name": "stderr",
     "output_type": "stream",
     "text": [
      "/opt/homebrew/Caskroom/miniforge/base/envs/tf-mac/lib/python3.8/site-packages/sentence_transformers/cross_encoder/CrossEncoder.py:13: TqdmWarning: IProgress not found. Please update jupyter and ipywidgets. See https://ipywidgets.readthedocs.io/en/stable/user_install.html\n",
      "  from tqdm.autonotebook import tqdm, trange\n"
     ]
    }
   ],
   "source": [
    "import pandas as pd\n",
    "import numpy as np\n",
    "from sentence_transformers import SentenceTransformer\n",
    "\n",
    "df = pd.read_csv('../data/books_summary.csv')\n",
    "bert_model = SentenceTransformer('all-MiniLM-L6-v2')\n",
    "\n",
    "df['BERT_Vector'] = df['Summary'].apply(lambda x: bert_model.encode(str(x)))"
   ]
  },
  {
   "cell_type": "code",
   "execution_count": 2,
   "metadata": {},
   "outputs": [
    {
     "data": {
      "text/plain": [
       "Title\n",
       "The Hunger Games (The Hunger Games, #1)                          0\n",
       "Harry Potter and the Order of the Phoenix (Harry Potter, #5)     1\n",
       "Pride and Prejudice                                              2\n",
       "To Kill a Mockingbird                                            3\n",
       "The Book Thief                                                   4\n",
       "                                                                ..\n",
       "Angela’s Ashes (Frank McCourt, #1)                              95\n",
       "Interview with the Vampire (The Vampire Chronicles, #1)         96\n",
       "Don Quixote                                                     97\n",
       "The Old Man and the Sea                                         98\n",
       "The Poisonwood Bible                                            99\n",
       "Length: 100, dtype: int64"
      ]
     },
     "execution_count": 2,
     "metadata": {},
     "output_type": "execute_result"
    }
   ],
   "source": [
    "from sklearn.metrics.pairwise import cosine_similarity\n",
    "\n",
    "bert_matrix = np.vstack(df['BERT_Vector'].values)\n",
    "\n",
    "bert_cosine_sim = cosine_similarity(bert_matrix, bert_matrix)\n",
    "\n",
    "book_indices = pd.Series(df.index, index=df['Title'])\n",
    "\n",
    "book_indices\n"
   ]
  },
  {
   "cell_type": "code",
   "execution_count": 3,
   "metadata": {},
   "outputs": [
    {
     "name": "stdout",
     "output_type": "stream",
     "text": [
      "                       Title           Author\n",
      "85  A Tree Grows in Brooklyn     Betty  Smith\n",
      "33           Charlotte’s Web       E.B. White\n",
      "3      To Kill a Mockingbird       Harper Lee\n",
      "87     To Kill a Mockingbird       Harper Lee\n",
      "44        The Princess Bride  William Goldman\n"
     ]
    }
   ],
   "source": [
    "def recommend_book_bert(title, top_n=5):\n",
    "  idx = book_indices[title]\n",
    "  sim_scores = list(enumerate(bert_cosine_sim[idx]))\n",
    "\n",
    "  sim_scores = sorted(sim_scores, key=lambda x: x[1], reverse=True)[1: top_n + 1]\n",
    "\n",
    "  book_indices_list = [i[0] for i in sim_scores]\n",
    "\n",
    "  return df.iloc[book_indices_list][['Title', 'Author']]\n",
    "\n",
    "print(recommend_book_bert('The Great Gatsby'))"
   ]
  }
 ],
 "metadata": {
  "kernelspec": {
   "display_name": "tf-mac",
   "language": "python",
   "name": "python3"
  },
  "language_info": {
   "codemirror_mode": {
    "name": "ipython",
    "version": 3
   },
   "file_extension": ".py",
   "mimetype": "text/x-python",
   "name": "python",
   "nbconvert_exporter": "python",
   "pygments_lexer": "ipython3",
   "version": "3.8.19"
  }
 },
 "nbformat": 4,
 "nbformat_minor": 2
}
