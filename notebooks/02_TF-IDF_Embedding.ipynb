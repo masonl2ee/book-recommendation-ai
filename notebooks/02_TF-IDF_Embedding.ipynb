{
 "cells": [
  {
   "cell_type": "code",
   "execution_count": null,
   "metadata": {},
   "outputs": [
    {
     "data": {
      "text/html": [
       "<div>\n",
       "<style scoped>\n",
       "    .dataframe tbody tr th:only-of-type {\n",
       "        vertical-align: middle;\n",
       "    }\n",
       "\n",
       "    .dataframe tbody tr th {\n",
       "        vertical-align: top;\n",
       "    }\n",
       "\n",
       "    .dataframe thead th {\n",
       "        text-align: right;\n",
       "    }\n",
       "</style>\n",
       "<table border=\"1\" class=\"dataframe\">\n",
       "  <thead>\n",
       "    <tr style=\"text-align: right;\">\n",
       "      <th></th>\n",
       "      <th>Title</th>\n",
       "      <th>Author</th>\n",
       "      <th>Image_URL</th>\n",
       "      <th>Summary</th>\n",
       "    </tr>\n",
       "  </thead>\n",
       "  <tbody>\n",
       "    <tr>\n",
       "      <th>0</th>\n",
       "      <td>The Hunger Games (The Hunger Games, #1)</td>\n",
       "      <td>Suzanne Collins</td>\n",
       "      <td>https://i.gr-assets.com/images/S/compressed.ph...</td>\n",
       "      <td>Could you survive on your own in the wild, wit...</td>\n",
       "    </tr>\n",
       "    <tr>\n",
       "      <th>1</th>\n",
       "      <td>Harry Potter and the Order of the Phoenix (Har...</td>\n",
       "      <td>J.K. Rowling</td>\n",
       "      <td>https://i.gr-assets.com/images/S/compressed.ph...</td>\n",
       "      <td>Harry Potter is about to start his fifth year ...</td>\n",
       "    </tr>\n",
       "    <tr>\n",
       "      <th>2</th>\n",
       "      <td>Pride and Prejudice</td>\n",
       "      <td>Jane Austen</td>\n",
       "      <td>https://i.gr-assets.com/images/S/compressed.ph...</td>\n",
       "      <td>Since its immediate success in 1813, Pride and...</td>\n",
       "    </tr>\n",
       "    <tr>\n",
       "      <th>3</th>\n",
       "      <td>To Kill a Mockingbird</td>\n",
       "      <td>Harper Lee</td>\n",
       "      <td>https://i.gr-assets.com/images/S/compressed.ph...</td>\n",
       "      <td>The unforgettable novel of a childhood in a sl...</td>\n",
       "    </tr>\n",
       "    <tr>\n",
       "      <th>4</th>\n",
       "      <td>The Book Thief</td>\n",
       "      <td>Markus Zusak</td>\n",
       "      <td>https://i.gr-assets.com/images/S/compressed.ph...</td>\n",
       "      <td>Librarian's note: An alternate cover edition c...</td>\n",
       "    </tr>\n",
       "  </tbody>\n",
       "</table>\n",
       "</div>"
      ],
      "text/plain": [
       "                                               Title           Author  \\\n",
       "0            The Hunger Games (The Hunger Games, #1)  Suzanne Collins   \n",
       "1  Harry Potter and the Order of the Phoenix (Har...     J.K. Rowling   \n",
       "2                                Pride and Prejudice      Jane Austen   \n",
       "3                              To Kill a Mockingbird       Harper Lee   \n",
       "4                                     The Book Thief     Markus Zusak   \n",
       "\n",
       "                                           Image_URL  \\\n",
       "0  https://i.gr-assets.com/images/S/compressed.ph...   \n",
       "1  https://i.gr-assets.com/images/S/compressed.ph...   \n",
       "2  https://i.gr-assets.com/images/S/compressed.ph...   \n",
       "3  https://i.gr-assets.com/images/S/compressed.ph...   \n",
       "4  https://i.gr-assets.com/images/S/compressed.ph...   \n",
       "\n",
       "                                             Summary  \n",
       "0  Could you survive on your own in the wild, wit...  \n",
       "1  Harry Potter is about to start his fifth year ...  \n",
       "2  Since its immediate success in 1813, Pride and...  \n",
       "3  The unforgettable novel of a childhood in a sl...  \n",
       "4  Librarian's note: An alternate cover edition c...  "
      ]
     },
     "execution_count": 2,
     "metadata": {},
     "output_type": "execute_result"
    }
   ],
   "source": [
    "import pandas as pd\n",
    "\n",
    "\n",
    "df = pd.read_csv('../data/books_summary.csv')\n",
    "\n",
    "df.head()"
   ]
  },
  {
   "cell_type": "code",
   "execution_count": 3,
   "metadata": {},
   "outputs": [
    {
     "name": "stdout",
     "output_type": "stream",
     "text": [
      "TF-IDF Vector size :  (100, 3693)\n"
     ]
    }
   ],
   "source": [
    "from sklearn.feature_extraction.text import TfidfVectorizer\n",
    "\n",
    "\n",
    "tfidf_vectorizer = TfidfVectorizer(stop_words='english', max_features=5000)\n",
    "\n",
    "tfidf_matrix = tfidf_vectorizer.fit_transform(df['Summary'])\n",
    "\n",
    "print(\"TF-IDF Vector size : \", tfidf_matrix.shape)"
   ]
  },
  {
   "cell_type": "code",
   "execution_count": 4,
   "metadata": {},
   "outputs": [],
   "source": [
    "from sklearn.metrics.pairwise import cosine_similarity\n",
    "\n",
    "\n",
    "cosine_sim = cosine_similarity(tfidf_matrix, tfidf_matrix)\n",
    "\n",
    "book_indices = pd.Series(df.index, index=df['Title']).drop_duplicates()\n"
   ]
  },
  {
   "cell_type": "code",
   "execution_count": 32,
   "metadata": {},
   "outputs": [
    {
     "data": {
      "text/plain": [
       "0"
      ]
     },
     "execution_count": 32,
     "metadata": {},
     "output_type": "execute_result"
    }
   ],
   "source": [
    "book_indices['The Hunger Games (The Hunger Games, #1)']"
   ]
  },
  {
   "cell_type": "code",
   "execution_count": 34,
   "metadata": {},
   "outputs": [
    {
     "data": {
      "text/plain": [
       "(100, 100)"
      ]
     },
     "execution_count": 34,
     "metadata": {},
     "output_type": "execute_result"
    }
   ],
   "source": [
    "cosine_sim.shape"
   ]
  },
  {
   "cell_type": "code",
   "execution_count": 5,
   "metadata": {},
   "outputs": [
    {
     "data": {
      "text/plain": [
       "[(0, 1.0000000000000002),\n",
       " (1, 0.03381437012769274),\n",
       " (2, 0.00994114485878779),\n",
       " (3, 0.017321764904272945),\n",
       " (4, 0.015372799919494256),\n",
       " (5, 0.029238979684375523),\n",
       " (6, 0.008494178999704139),\n",
       " (7, 0.0022024193805789682),\n",
       " (8, 0.013626055649018434),\n",
       " (9, 0.0036276313129081257),\n",
       " (10, 0.002400454489029344),\n",
       " (11, 0.024809546110202217),\n",
       " (12, 0.001757824283672759),\n",
       " (13, 0.0),\n",
       " (14, 0.010525849528176083),\n",
       " (15, 0.04039404837721644),\n",
       " (16, 0.04030701099784537),\n",
       " (17, 0.029545265402630527),\n",
       " (18, 0.014447679649288706),\n",
       " (19, 0.0),\n",
       " (20, 0.0),\n",
       " (21, 0.0),\n",
       " (22, 0.06648660806580924),\n",
       " (23, 0.011793545763751342),\n",
       " (24, 0.019155929743858678),\n",
       " (25, 0.011566477103239757),\n",
       " (26, 0.07659528456531214),\n",
       " (27, 0.0),\n",
       " (28, 0.04500900935040407),\n",
       " (29, 0.012605670209134879),\n",
       " (30, 0.028484412063072756),\n",
       " (31, 0.02790240816770439),\n",
       " (32, 0.0),\n",
       " (33, 0.025516643131398623),\n",
       " (34, 0.020006602206800873),\n",
       " (35, 0.002146688850734836),\n",
       " (36, 0.027460374363870832),\n",
       " (37, 0.018354512956704355),\n",
       " (38, 0.03102032615193536),\n",
       " (39, 0.020972922488808696),\n",
       " (40, 0.03682738751588388),\n",
       " (41, 0.003091261179945646),\n",
       " (42, 0.04819433886379331),\n",
       " (43, 0.01863785796044903),\n",
       " (44, 0.04813907405087993),\n",
       " (45, 0.026804347140453086),\n",
       " (46, 0.008655169418973983),\n",
       " (47, 0.07034960210326986),\n",
       " (48, 0.019475316876494737),\n",
       " (49, 0.0),\n",
       " (50, 0.02441795305759523),\n",
       " (51, 0.01665083238939152),\n",
       " (52, 0.0),\n",
       " (53, 0.04601640339859667),\n",
       " (54, 0.0030396917984029694),\n",
       " (55, 0.016536966717743115),\n",
       " (56, 0.017539009908118075),\n",
       " (57, 0.07928163585041087),\n",
       " (58, 0.018427639246041544),\n",
       " (59, 0.026479995793872675),\n",
       " (60, 0.008382904658439435),\n",
       " (61, 0.031006338679919046),\n",
       " (62, 0.010714211081382652),\n",
       " (63, 0.0),\n",
       " (64, 0.028622441787025752),\n",
       " (65, 0.004768318476738305),\n",
       " (66, 0.045511602459522876),\n",
       " (67, 0.0),\n",
       " (68, 0.007216748315414944),\n",
       " (69, 0.03535432987827243),\n",
       " (70, 0.007496944267730298),\n",
       " (71, 0.009724314221196965),\n",
       " (72, 0.0),\n",
       " (73, 0.04865824025983601),\n",
       " (74, 0.0068739090743278),\n",
       " (75, 0.024980066560765152),\n",
       " (76, 0.0),\n",
       " (77, 0.009164105196918546),\n",
       " (78, 0.031008776024632458),\n",
       " (79, 0.032142789460222074),\n",
       " (80, 0.0),\n",
       " (81, 0.012877226289743193),\n",
       " (82, 0.09415549208904622),\n",
       " (83, 0.005181453269783296),\n",
       " (84, 0.008683369316055943),\n",
       " (85, 0.023053915865464833),\n",
       " (86, 0.009982159364075332),\n",
       " (87, 0.02095510871427119),\n",
       " (88, 0.03072573428505622),\n",
       " (89, 0.01759191687311621),\n",
       " (90, 0.04407356337511823),\n",
       " (91, 0.05173294447886556),\n",
       " (92, 0.024299399004915033),\n",
       " (93, 0.018174683412010735),\n",
       " (94, 0.0),\n",
       " (95, 0.02920859233381263),\n",
       " (96, 0.009000329522725685),\n",
       " (97, 0.022457096354049307),\n",
       " (98, 0.0),\n",
       " (99, 0.0)]"
      ]
     },
     "execution_count": 5,
     "metadata": {},
     "output_type": "execute_result"
    }
   ],
   "source": [
    "list(enumerate(cosine_sim[book_indices['The Hunger Games (The Hunger Games, #1)']]))"
   ]
  },
  {
   "cell_type": "code",
   "execution_count": 6,
   "metadata": {},
   "outputs": [
    {
     "data": {
      "text/html": [
       "<div>\n",
       "<style scoped>\n",
       "    .dataframe tbody tr th:only-of-type {\n",
       "        vertical-align: middle;\n",
       "    }\n",
       "\n",
       "    .dataframe tbody tr th {\n",
       "        vertical-align: top;\n",
       "    }\n",
       "\n",
       "    .dataframe thead th {\n",
       "        text-align: right;\n",
       "    }\n",
       "</style>\n",
       "<table border=\"1\" class=\"dataframe\">\n",
       "  <thead>\n",
       "    <tr style=\"text-align: right;\">\n",
       "      <th></th>\n",
       "      <th>Title</th>\n",
       "      <th>Author</th>\n",
       "    </tr>\n",
       "  </thead>\n",
       "  <tbody>\n",
       "    <tr>\n",
       "      <th>12</th>\n",
       "      <td>Wuthering Heights</td>\n",
       "      <td>Emily Brontë</td>\n",
       "    </tr>\n",
       "    <tr>\n",
       "      <th>52</th>\n",
       "      <td>Frankenstein: The 1818 Text</td>\n",
       "      <td>Mary Wollstonecraft Shelley</td>\n",
       "    </tr>\n",
       "    <tr>\n",
       "      <th>42</th>\n",
       "      <td>Little Women (Little Women, #1)</td>\n",
       "      <td>Louisa May Alcott</td>\n",
       "    </tr>\n",
       "    <tr>\n",
       "      <th>4</th>\n",
       "      <td>The Book Thief</td>\n",
       "      <td>Markus Zusak</td>\n",
       "    </tr>\n",
       "    <tr>\n",
       "      <th>33</th>\n",
       "      <td>Charlotte’s Web</td>\n",
       "      <td>E.B. White</td>\n",
       "    </tr>\n",
       "  </tbody>\n",
       "</table>\n",
       "</div>"
      ],
      "text/plain": [
       "                              Title                       Author\n",
       "12                Wuthering Heights                 Emily Brontë\n",
       "52      Frankenstein: The 1818 Text  Mary Wollstonecraft Shelley\n",
       "42  Little Women (Little Women, #1)            Louisa May Alcott\n",
       "4                    The Book Thief                 Markus Zusak\n",
       "33                  Charlotte’s Web                   E.B. White"
      ]
     },
     "execution_count": 6,
     "metadata": {},
     "output_type": "execute_result"
    }
   ],
   "source": [
    "def recommend_books(title, top_n=5):\n",
    "  sim_scores = list(enumerate(cosine_sim[book_indices[title]]))\n",
    "  sim_scores = sorted(sim_scores, key=lambda x: x[1], reverse=True)[1: top_n+1]\n",
    "\n",
    "  book_indices_list = [i[0] for i in sim_scores]\n",
    "  return df.iloc[book_indices_list][['Title', 'Author']]\n",
    "\n",
    "recommend_books('The Great Gatsby')"
   ]
  }
 ],
 "metadata": {
  "kernelspec": {
   "display_name": "tf-mac",
   "language": "python",
   "name": "python3"
  },
  "language_info": {
   "codemirror_mode": {
    "name": "ipython",
    "version": 3
   },
   "file_extension": ".py",
   "mimetype": "text/x-python",
   "name": "python",
   "nbconvert_exporter": "python",
   "pygments_lexer": "ipython3",
   "version": "3.8.19"
  }
 },
 "nbformat": 4,
 "nbformat_minor": 2
}
